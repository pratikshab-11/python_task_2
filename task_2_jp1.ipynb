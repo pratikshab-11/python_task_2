{
 "cells": [
  {
   "cell_type": "code",
   "execution_count": null,
   "id": "df9421d0",
   "metadata": {},
   "outputs": [],
   "source": [
    "sample_list 1= [\n",
    "    \"apple\", \"banana\", \"cherry\", \"date\", \"elderberry\",\n",
    "    \"fig\", \"grape\", \"honeydew\", \"kiwi\", \"lemon\",\n",
    "    \"mango\", \"nectarine\", \"orange\", \"papaya\", \"quince\",\n",
    "    \"raspberry\", \"strawberry\", \"tangerine\", \"ugli fruit\", \"vanilla\",\n",
    "    \"watermelon\", \"xigua\", \"yellow passionfruit\", \"zucchini\", \"blueberry\"\n",
    "]"
   ]
  },
  {
   "cell_type": "code",
   "execution_count": 2,
   "id": "48323fca",
   "metadata": {},
   "outputs": [],
   "source": [
    "sample_dict = {\n",
    "    \"name\": \"Pratiksha\",\n",
    "    \"age\": 24,\n",
    "    \"city\": \"Mumbai\",\n",
    "    \"language\": \"English\",\n",
    "    \"skills\": [\"SQL\", \"GitHub\", \"Excel\"],\n",
    "    \"is_student\": True,\n",
    "    \"score\": 89.5,\n",
    "    \"email\": \"pratiksha@example.com\",\n",
    "    \"phone\": \"9876543210\",\n",
    "    \"country\": \"India\",\n",
    "    \"interests\": [\"Goa\", \"History\", \"Tech\"],\n",
    "    \"github\": \"github.com/pratiksha\",\n",
    "    \"resume_updated\": True,\n",
    "    \"interview_ready\": False,\n",
    "    \"public_speaking\": \"Improving\",\n",
    "    \"database\": \"PostgreSQL\",\n",
    "    \"version_control\": \"Git\",\n",
    "    \"goal\": \"Crack TCS interview\",\n",
    "    \"timezone\": \"IST\",\n",
    "    \"favorite_fruit\": \"Mango\"\n",
    "}"
   ]
  },
  {
   "cell_type": "code",
   "execution_count": 3,
   "id": "01ab9dd6",
   "metadata": {},
   "outputs": [
    {
     "name": "stdout",
     "output_type": "stream",
     "text": [
      "List: ['apple', 'banana', 'cherry', 'date', 'elderberry', 'fig', 'grape', 'honeydew', 'kiwi', 'lemon', 'mango', 'nectarine', 'orange', 'papaya', 'quince', 'raspberry', 'strawberry', 'tangerine', 'ugli fruit', 'vanilla', 'watermelon', 'xigua', 'yellow passionfruit', 'zucchini', 'blueberry']\n",
      "Dictionary: {'name': 'Pratiksha', 'age': 24, 'city': 'Mumbai', 'language': 'English', 'skills': ['SQL', 'GitHub', 'Excel'], 'is_student': True, 'score': 89.5, 'email': 'pratiksha@example.com', 'phone': '9876543210', 'country': 'India', 'interests': ['Goa', 'History', 'Tech'], 'github': 'github.com/pratiksha', 'resume_updated': True, 'interview_ready': False, 'public_speaking': 'Improving', 'database': 'PostgreSQL', 'version_control': 'Git', 'goal': 'Crack TCS interview', 'timezone': 'IST', 'favorite_fruit': 'Mango'}\n"
     ]
    }
   ],
   "source": [
    "print(\"List:\", sample_list)\n",
    "print(\"Dictionary:\", sample_dict)\n"
   ]
  },
  {
   "cell_type": "code",
   "execution_count": 4,
   "id": "e0acddd4",
   "metadata": {},
   "outputs": [],
   "source": [
    "sample_list2 = [1, 2, 3, 4, 5, \n",
    "           6, 7, 8, 9, 10, \n",
    "           11, 12, 13, 14, 15, \n",
    "           16, 17, 18, 19, 20, \n",
    "           21, 22, 23, 24, 25]\n"
   ]
  },
  {
   "cell_type": "code",
   "execution_count": 5,
   "id": "cf6506ae",
   "metadata": {},
   "outputs": [
    {
     "name": "stdout",
     "output_type": "stream",
     "text": [
      "List: [1, 2, 3, 4, 5, 6, 7, 8, 9, 10, 11, 12, 13, 14, 15, 16, 17, 18, 19, 20, 21, 22, 23, 24, 25]\n"
     ]
    }
   ],
   "source": [
    "print(\"List:\", sample_list2)"
   ]
  },
  {
   "cell_type": "code",
   "execution_count": 6,
   "id": "7d1cd2c8",
   "metadata": {},
   "outputs": [
    {
     "name": "stdout",
     "output_type": "stream",
     "text": [
      "Dictionary: {'name': 'Pratiksha', 'age': 25, 'city': 'Nagpur', 'country': 'India', 'profession': 'Data Analyst', 'company': 'TechCorp', 'experience': 3, 'skills': ['Python', 'SQL', 'Power BI', 'Excel'], 'education': 'B.Sc. Computer Science', 'graduate_year': 2020, 'email': 'pratiksha@example.com', 'phone': '9876543210', 'employee_id': 'EMP1234', 'department': 'Analytics', 'manager': 'Mr. Sharma', 'project': 'Sales Dashboard', 'language': 'English', 'hobby': 'Reading', 'status': 'Active', 'remote': True}\n"
     ]
    }
   ],
   "source": [
    "\n",
    "sample_dict = {\n",
    "    \"name\": \"Pratiksha\",\n",
    "    \"age\": 25,\n",
    "    \"city\": \"Nagpur\",\n",
    "    \"country\": \"India\",\n",
    "    \"profession\": \"Data Analyst\",\n",
    "    \"company\": \"TechCorp\",\n",
    "    \"experience\": 3,\n",
    "    \"skills\": [\"Python\", \"SQL\", \"Power BI\", \"Excel\"],\n",
    "    \"education\": \"B.Sc. Computer Science\",\n",
    "    \"graduate_year\": 2020,\n",
    "    \"email\": \"pratiksha@example.com\",\n",
    "    \"phone\": \"9876543210\",\n",
    "    \"employee_id\": \"EMP1234\",\n",
    "    \"department\": \"Analytics\",\n",
    "    \"manager\": \"Mr. Sharma\",\n",
    "    \"project\": \"Sales Dashboard\",\n",
    "    \"language\": \"English\",\n",
    "    \"hobby\": \"Reading\",\n",
    "    \"status\": \"Active\",\n",
    "    \"remote\": True\n",
    "}\n",
    "\n",
    "print(\"Dictionary:\", sample_dict)\n"
   ]
  },
  {
   "cell_type": "code",
   "execution_count": 28,
   "id": "aef3ae3f",
   "metadata": {},
   "outputs": [
    {
     "name": "stdout",
     "output_type": "stream",
     "text": [
      "List: ['Nagpur', 'Mumbai', 'Pune', 'Delhi', 'Chennai', 'Kolkata', 'Hyderabad', 'Bangalore', 'Ahmedabad', 'Jaipur', 'Lucknow', 'Kanpur', 'Nagpur', 'Indore', 'Bhopal', 'Patna', 'Ranchi']\n",
      "Dictionary: {'name': 'student_1', 'marks': 80, 'subject': 'science', 'pass': True, 'grade': 'A', 'year': 2024, 'schoolName': 'Delhi public school', 'city': 'Nagpur', 'local': True, 'age': 15, 'height': 5.6, 'weight': 55, 'hobby': ['reading', 'dancing', 'singing'], 'friends': 10}\n"
     ]
    }
   ],
   "source": [
    "sample_dict3 = {\n",
    "\t\"name\": \"student_1\",\n",
    "\t\"marks\": 80,\n",
    "\t\"subject\": \"science\",\n",
    "\t\"pass\": True,\n",
    "\t\"grade\": \"A\",\n",
    "\t\"year\": 2024,\n",
    "\t\"schoolName\": \"Delhi public school\",\n",
    "\t\"city\": \"Nagpur\",\n",
    "\t\"local\": True,\n",
    "\t\"age\": 15,\n",
    "\t\"height\": 5.6,\n",
    "\t\"weight\": 55,\n",
    "\t\"hobby\": [\"reading\", \"dancing\", \"singing\"],\n",
    "\t\"friends\": 10\n",
    "}\n",
    "\n",
    "\n",
    "\n",
    "sample_list3 =[\"Nagpur\", \"Mumbai\", \"Pune\", \"Delhi\", \"Chennai\", \"Kolkata\", \"Hyderabad\", \"Bangalore\", \"Ahmedabad\", \"Jaipur\", \"Lucknow\", \"Kanpur\", \"Nagpur\", \"Indore\", \"Bhopal\", \"Patna\", \"Ranchi\"]\n",
    "\n",
    "print(\"List:\", sample_list3)\n",
    "print(\"Dictionary:\", sample_dict3)"
   ]
  },
  {
   "cell_type": "code",
   "execution_count": null,
   "id": "f9d4c1d0",
   "metadata": {},
   "outputs": [
    {
     "name": "stdout",
     "output_type": "stream",
     "text": [
      "List: ['red', 'blue', 'green', 'yellow', 'purple', 'orange', 'pink', 'brown', 'black', 'white', 'gray', 'cyan', 'magenta', 'lime', 'teal', 'navy', 'maroon', 'olive', 'silver', 'gold']\n",
      "Dictionary: {'bank': 'statebankindia', 'IFSC': 'SBIN0001234', 'Branch': 'Main Branch', 'City': 'Nagpur', 'State': 'Maharashtra', 'Country': 'India', 'AccountType': 'Savings', 'AccountNumber': 1234567890, 'MICR': 440002345, 'SWIFT': 'SBININBBXXX', 'ContactNumber': '9876543210'}\n"
     ]
    }
   ],
   "source": [
    "sample_list4 = [\"red\", \"blue\", \"green\", \"yellow\", \"purple\", \"orange\", \"pink\", \"brown\",\n",
    " \"black\", \"white\", \"gray\", \"cyan\", \"magenta\", \"lime\", \"teal\", \"navy\", \"maroon\", \"olive\", \"silver\", \"gold\"]\n",
    "\n",
    "sample_dict4 = {\"bank\":\"statebankindia\",\"IFSC\":\"SBIN0001234\",\"Branch\":\"Main Branch\",\n",
    "\"City\":\"Nagpur\",\"State\":\"Maharashtra\",\"Country\":\"India\",\"AccountType\":\"Savings\",\"AccountNumber\":1234567890,\"MICR\":440002345,\"SWIFT\":\"SBININBBXXX\",\"ContactNumber\":\"9876543210\"}\n",
    "\n",
    "print(\"List:\", sample_list4)\n",
    "print(\"Dictionary:\", sample_dict4)"
   ]
  },
  {
   "cell_type": "code",
   "execution_count": null,
   "id": "1fac217f",
   "metadata": {},
   "outputs": [],
   "source": [
    "sample_list5 = []"
   ]
  }
 ],
 "metadata": {
  "kernelspec": {
   "display_name": "Python 3",
   "language": "python",
   "name": "python3"
  },
  "language_info": {
   "codemirror_mode": {
    "name": "ipython",
    "version": 3
   },
   "file_extension": ".py",
   "mimetype": "text/x-python",
   "name": "python",
   "nbconvert_exporter": "python",
   "pygments_lexer": "ipython3",
   "version": "3.13.7"
  }
 },
 "nbformat": 4,
 "nbformat_minor": 5
}
