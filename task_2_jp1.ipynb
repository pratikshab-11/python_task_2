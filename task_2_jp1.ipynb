{
 "cells": [
  {
   "cell_type": "code",
   "execution_count": null,
   "id": "df9421d0",
   "metadata": {},
   "outputs": [],
   "source": [
    "sample_list 1= [\n",
    "    \"apple\", \"banana\", \"cherry\", \"date\", \"elderberry\",\n",
    "    \"fig\", \"grape\", \"honeydew\", \"kiwi\", \"lemon\",\n",
    "    \"mango\", \"nectarine\", \"orange\", \"papaya\", \"quince\",\n",
    "    \"raspberry\", \"strawberry\", \"tangerine\", \"ugli fruit\", \"vanilla\",\n",
    "    \"watermelon\", \"xigua\", \"yellow passionfruit\", \"zucchini\", \"blueberry\"\n",
    "]"
   ]
  },
  {
   "cell_type": "code",
   "execution_count": 2,
   "id": "48323fca",
   "metadata": {},
   "outputs": [],
   "source": [
    "sample_dict = {\n",
    "    \"name\": \"Pratiksha\",\n",
    "    \"age\": 24,\n",
    "    \"city\": \"Mumbai\",\n",
    "    \"language\": \"English\",\n",
    "    \"skills\": [\"SQL\", \"GitHub\", \"Excel\"],\n",
    "    \"is_student\": True,\n",
    "    \"score\": 89.5,\n",
    "    \"email\": \"pratiksha@example.com\",\n",
    "    \"phone\": \"9876543210\",\n",
    "    \"country\": \"India\",\n",
    "    \"interests\": [\"Goa\", \"History\", \"Tech\"],\n",
    "    \"github\": \"github.com/pratiksha\",\n",
    "    \"resume_updated\": True,\n",
    "    \"interview_ready\": False,\n",
    "    \"public_speaking\": \"Improving\",\n",
    "    \"database\": \"PostgreSQL\",\n",
    "    \"version_control\": \"Git\",\n",
    "    \"goal\": \"Crack TCS interview\",\n",
    "    \"timezone\": \"IST\",\n",
    "    \"favorite_fruit\": \"Mango\"\n",
    "}"
   ]
  },
  {
   "cell_type": "code",
   "execution_count": 3,
   "id": "01ab9dd6",
   "metadata": {},
   "outputs": [
    {
     "name": "stdout",
     "output_type": "stream",
     "text": [
      "List: ['apple', 'banana', 'cherry', 'date', 'elderberry', 'fig', 'grape', 'honeydew', 'kiwi', 'lemon', 'mango', 'nectarine', 'orange', 'papaya', 'quince', 'raspberry', 'strawberry', 'tangerine', 'ugli fruit', 'vanilla', 'watermelon', 'xigua', 'yellow passionfruit', 'zucchini', 'blueberry']\n",
      "Dictionary: {'name': 'Pratiksha', 'age': 24, 'city': 'Mumbai', 'language': 'English', 'skills': ['SQL', 'GitHub', 'Excel'], 'is_student': True, 'score': 89.5, 'email': 'pratiksha@example.com', 'phone': '9876543210', 'country': 'India', 'interests': ['Goa', 'History', 'Tech'], 'github': 'github.com/pratiksha', 'resume_updated': True, 'interview_ready': False, 'public_speaking': 'Improving', 'database': 'PostgreSQL', 'version_control': 'Git', 'goal': 'Crack TCS interview', 'timezone': 'IST', 'favorite_fruit': 'Mango'}\n"
     ]
    }
   ],
   "source": [
    "print(\"List:\", sample_list)\n",
    "print(\"Dictionary:\", sample_dict)\n"
   ]
  },
  {
   "cell_type": "code",
   "execution_count": 4,
   "id": "e0acddd4",
   "metadata": {},
   "outputs": [],
   "source": [
    "sample_list2 = [1, 2, 3, 4, 5, \n",
    "           6, 7, 8, 9, 10, \n",
    "           11, 12, 13, 14, 15, \n",
    "           16, 17, 18, 19, 20, \n",
    "           21, 22, 23, 24, 25]\n"
   ]
  },
  {
   "cell_type": "code",
   "execution_count": 5,
   "id": "cf6506ae",
   "metadata": {},
   "outputs": [
    {
     "name": "stdout",
     "output_type": "stream",
     "text": [
      "List: [1, 2, 3, 4, 5, 6, 7, 8, 9, 10, 11, 12, 13, 14, 15, 16, 17, 18, 19, 20, 21, 22, 23, 24, 25]\n"
     ]
    }
   ],
   "source": [
    "print(\"List:\", sample_list2)"
   ]
  },
  {
   "cell_type": "code",
   "execution_count": 6,
   "id": "7d1cd2c8",
   "metadata": {},
   "outputs": [
    {
     "name": "stdout",
     "output_type": "stream",
     "text": [
      "Dictionary: {'name': 'Pratiksha', 'age': 25, 'city': 'Nagpur', 'country': 'India', 'profession': 'Data Analyst', 'company': 'TechCorp', 'experience': 3, 'skills': ['Python', 'SQL', 'Power BI', 'Excel'], 'education': 'B.Sc. Computer Science', 'graduate_year': 2020, 'email': 'pratiksha@example.com', 'phone': '9876543210', 'employee_id': 'EMP1234', 'department': 'Analytics', 'manager': 'Mr. Sharma', 'project': 'Sales Dashboard', 'language': 'English', 'hobby': 'Reading', 'status': 'Active', 'remote': True}\n"
     ]
    }
   ],
   "source": [
    "\n",
    "sample_dict = {\n",
    "    \"name\": \"Pratiksha\",\n",
    "    \"age\": 25,\n",
    "    \"city\": \"Nagpur\",\n",
    "    \"country\": \"India\",\n",
    "    \"profession\": \"Data Analyst\",\n",
    "    \"company\": \"TechCorp\",\n",
    "    \"experience\": 3,\n",
    "    \"skills\": [\"Python\", \"SQL\", \"Power BI\", \"Excel\"],\n",
    "    \"education\": \"B.Sc. Computer Science\",\n",
    "    \"graduate_year\": 2020,\n",
    "    \"email\": \"pratiksha@example.com\",\n",
    "    \"phone\": \"9876543210\",\n",
    "    \"employee_id\": \"EMP1234\",\n",
    "    \"department\": \"Analytics\",\n",
    "    \"manager\": \"Mr. Sharma\",\n",
    "    \"project\": \"Sales Dashboard\",\n",
    "    \"language\": \"English\",\n",
    "    \"hobby\": \"Reading\",\n",
    "    \"status\": \"Active\",\n",
    "    \"remote\": True\n",
    "}\n",
    "\n",
    "print(\"Dictionary:\", sample_dict)\n"
   ]
  },
  {
   "cell_type": "code",
   "execution_count": 28,
   "id": "aef3ae3f",
   "metadata": {},
   "outputs": [
    {
     "name": "stdout",
     "output_type": "stream",
     "text": [
      "List: ['Nagpur', 'Mumbai', 'Pune', 'Delhi', 'Chennai', 'Kolkata', 'Hyderabad', 'Bangalore', 'Ahmedabad', 'Jaipur', 'Lucknow', 'Kanpur', 'Nagpur', 'Indore', 'Bhopal', 'Patna', 'Ranchi']\n",
      "Dictionary: {'name': 'student_1', 'marks': 80, 'subject': 'science', 'pass': True, 'grade': 'A', 'year': 2024, 'schoolName': 'Delhi public school', 'city': 'Nagpur', 'local': True, 'age': 15, 'height': 5.6, 'weight': 55, 'hobby': ['reading', 'dancing', 'singing'], 'friends': 10}\n"
     ]
    }
   ],
   "source": [
    "sample_dict3 = {\n",
    "\t\"name\": \"student_1\",\n",
    "\t\"marks\": 80,\n",
    "\t\"subject\": \"science\",\n",
    "\t\"pass\": True,\n",
    "\t\"grade\": \"A\",\n",
    "\t\"year\": 2024,\n",
    "\t\"schoolName\": \"Delhi public school\",\n",
    "\t\"city\": \"Nagpur\",\n",
    "\t\"local\": True,\n",
    "\t\"age\": 15,\n",
    "\t\"height\": 5.6,\n",
    "\t\"weight\": 55,\n",
    "\t\"hobby\": [\"reading\", \"dancing\", \"singing\"],\n",
    "\t\"friends\": 10\n",
    "}\n",
    "\n",
    "\n",
    "\n",
    "sample_list3 =[\"Nagpur\", \"Mumbai\", \"Pune\", \"Delhi\", \"Chennai\", \"Kolkata\", \"Hyderabad\", \"Bangalore\", \"Ahmedabad\", \"Jaipur\", \"Lucknow\", \"Kanpur\", \"Nagpur\", \"Indore\", \"Bhopal\", \"Patna\", \"Ranchi\"]\n",
    "\n",
    "print(\"List:\", sample_list3)\n",
    "print(\"Dictionary:\", sample_dict3)"
   ]
  },
  {
   "cell_type": "code",
   "execution_count": null,
   "id": "f9d4c1d0",
   "metadata": {},
   "outputs": [
    {
     "name": "stdout",
     "output_type": "stream",
     "text": [
      "List: ['red', 'blue', 'green', 'yellow', 'purple', 'orange', 'pink', 'brown', 'black', 'white', 'gray', 'cyan', 'magenta', 'lime', 'teal', 'navy', 'maroon', 'olive', 'silver', 'gold']\n",
      "Dictionary: {'bank': 'statebankindia', 'IFSC': 'SBIN0001234', 'Branch': 'Main Branch', 'City': 'Nagpur', 'State': 'Maharashtra', 'Country': 'India', 'AccountType': 'Savings', 'AccountNumber': 1234567890, 'MICR': 440002345, 'SWIFT': 'SBININBBXXX', 'ContactNumber': '9876543210'}\n"
     ]
    }
   ],
   "source": [
    "sample_list4 = [\"red\", \"blue\", \"green\", \"yellow\", \"purple\", \"orange\", \"pink\", \"brown\",\n",
    " \"black\", \"white\", \"gray\", \"cyan\", \"magenta\", \"lime\", \"teal\", \"navy\", \"maroon\", \"olive\", \"silver\", \"gold\"]\n",
    "\n",
    "sample_dict4 = {\"bank\":\"statebankindia\",\"IFSC\":\"SBIN0001234\",\"Branch\":\"Main Branch\",\n",
    "\"City\":\"Nagpur\",\"State\":\"Maharashtra\",\"Country\":\"India\",\"AccountType\":\"Savings\",\"AccountNumber\":1234567890,\"MICR\":440002345,\"SWIFT\":\"SBININBBXXX\",\"ContactNumber\":\"9876543210\"}\n",
    "\n",
    "print(\"List:\", sample_list4)\n",
    "print(\"Dictionary:\", sample_dict4)"
   ]
  },
  {
   "cell_type": "code",
   "execution_count": 36,
   "id": "1fac217f",
   "metadata": {},
   "outputs": [
    {
     "name": "stdout",
     "output_type": "stream",
     "text": [
      "List: ['bajaj', 'hero', 'honda', 'tvs', 'suzuki', 'yamaha', 'ducati', 'kawasaki', 'harley davidson', 'royal enfield']\n",
      "Dictionary: {'brand': 'bajaj', 'model': 'pulsar', 'year': 2020, 'color': 'black', 'engine_capacity': 150, 'mileage': 45, 'fuel_type': 'petrol', 'transmission': 'manual', 'price': 90000, 'warranty': '2 years'}\n"
     ]
    }
   ],
   "source": [
    "sample_list5 = [\"bajaj\",\"hero\",\"honda\",\"tvs\",\"suzuki\",\"yamaha\",\"ducati\",\"kawasaki\",\"harley davidson\",\"royal enfield\"]\n",
    "\n",
    "sample_dict5 = {\"brand\":\"bajaj\",\"model\":\"pulsar\",\"year\":2020,\"color\":\"black\",\"engine_capacity\":150,\"mileage\":45,\"fuel_type\":\"petrol\",\"transmission\":\"manual\",\"price\":90000,\"warranty\":\"2 years\"}    \n",
    "\n",
    "print(\"List:\", sample_list5)\n",
    "print(\"Dictionary:\", sample_dict5)"
   ]
  },
  {
   "cell_type": "code",
   "execution_count": 38,
   "id": "4df0bbf5",
   "metadata": {},
   "outputs": [
    {
     "name": "stdout",
     "output_type": "stream",
     "text": [
      "List: ['a', 'b', 'c', 'd', 'e', 'f', 'g', 'h', 'i', 'j', 'k', 'l', 'm', 'n', 'o', 'p', 'q', 'r', 's', 't', 'u', 'v', 'w', 'x', 'y']\n"
     ]
    }
   ],
   "source": [
    "sample_list6 = [\"a\", \"b\", \"c\", \"d\", \"e\", \"f\", \"g\", \"h\", \"i\", \"j\",\n",
    "         \"k\", \"l\", \"m\", \"n\", \"o\", \"p\", \"q\", \"r\", \"s\", \"t\",\n",
    "         \"u\", \"v\", \"w\", \"x\", \"y\"]\n",
    "\n",
    "print(\"List:\", sample_list6)"
   ]
  },
  {
   "cell_type": "code",
   "execution_count": null,
   "id": "f655b878",
   "metadata": {},
   "outputs": [
    {
     "name": "stdout",
     "output_type": "stream",
     "text": [
      "Dictionary: {'name1': 'Person1', 'name2': 'Person2', 'name3': 'Person3', 'name4': 'Person4', 'name5': 'Person5', 'name6': 'Person6', 'name7': 'Person7', 'name8': 'Person8', 'name9': 'Person9', 'name10': 'Person10', 'name11': 'Person11', 'name12': 'Person12', 'name13': 'Person13', 'name14': 'Person14', 'name15': 'Person15', 'name16': 'Person16', 'name17': 'Person17', 'name18': 'Person18', 'name19': 'Person19', 'name20': 'Person20'}\n"
     ]
    }
   ],
   "source": [
    "sample_dict6 = {f\"name{i}\": f\"Person{i}\" for i in range(1, 21)}\n",
    "print(\"Dictionary:\", sample_dict6)\n",
    "\n"
   ]
  },
  {
   "cell_type": "code",
   "execution_count": null,
   "id": "a8b4998e",
   "metadata": {},
   "outputs": [
    {
     "name": "stdout",
     "output_type": "stream",
     "text": [
      "List: [0.0, 0.1, 0.2, 0.30000000000000004, 0.4, 0.5, 0.6000000000000001, 0.7000000000000001, 0.8, 0.9, 1.0, 1.1, 1.2000000000000002, 1.3, 1.4000000000000001, 1.5, 1.6, 1.7000000000000002, 1.8, 1.9000000000000001, 2.0, 2.1, 2.2, 2.3000000000000003, 2.4000000000000004]\n"
     ]
    }
   ],
   "source": [
    "sample_list7 =[0.1 * i for i in range(25)]\n",
    "print(\"List:\", sample_list7)\n"
   ]
  },
  {
   "cell_type": "code",
   "execution_count": 42,
   "id": "5cc1b73f",
   "metadata": {},
   "outputs": [
    {
     "name": "stdout",
     "output_type": "stream",
     "text": [
      "Dictionary: {'item1': 2, 'item2': 4, 'item3': 6, 'item4': 8, 'item5': 10, 'item6': 12, 'item7': 14, 'item8': 16, 'item9': 18, 'item10': 20, 'item11': 22, 'item12': 24, 'item13': 26, 'item14': 28, 'item15': 30, 'item16': 32, 'item17': 34, 'item18': 36, 'item19': 38, 'item20': 40}\n"
     ]
    }
   ],
   "source": [
    "sample_dict7 ={f\"item{i}\": i*2 for i in range(1, 21)}\n",
    "print(\"Dictionary:\", sample_dict7)"
   ]
  },
  {
   "cell_type": "code",
   "execution_count": 43,
   "id": "86de97db",
   "metadata": {},
   "outputs": [
    {
     "name": "stdout",
     "output_type": "stream",
     "text": [
      "List: [10, 20, 30, 40, 50, 10, 20, 30, 40, 50, 10, 20, 30, 40, 50, 10, 20, 30, 40, 50, 10, 20, 30, 40, 50]\n"
     ]
    }
   ],
   "source": [
    "sample_list8 =[10, 20, 30, 40, 50] * 5\n",
    "print(\"List:\", sample_list8)"
   ]
  },
  {
   "cell_type": "code",
   "execution_count": null,
   "id": "5775792a",
   "metadata": {},
   "outputs": [
    {
     "name": "stdout",
     "output_type": "stream",
     "text": [
      "Dictionary: [None, None, None, None, None, None, None, None, None, None, None, None, None, None, None, None, None, None, None, None, None, None, None, None, None]\n"
     ]
    }
   ],
   "source": [
    "sample_dict8=[None] * 25\n",
    "print(\"Dictionary:\", sample_dict8)\n"
   ]
  },
  {
   "cell_type": "code",
   "execution_count": 49,
   "id": "ceda276e",
   "metadata": {},
   "outputs": [
    {
     "name": "stdout",
     "output_type": "stream",
     "text": [
      "List: [100, 99, 98, 97, 96, 95, 94, 93, 92, 91, 90, 89, 88, 87, 86, 85, 84, 83, 82, 81, 80, 79, 78, 77, 76]\n"
     ]
    }
   ],
   "source": [
    "sample_list9 = [100 - i for i in range(25)]\n",
    "print(\"List:\", sample_list9) "
   ]
  },
  {
   "cell_type": "code",
   "execution_count": 48,
   "id": "7503ff14",
   "metadata": {},
   "outputs": [
    {
     "name": "stdout",
     "output_type": "stream",
     "text": [
      "Dictionary: ['A', 'B', 'C', 'D', 'E', 'F', 'G', 'H', 'I', 'J', 'K', 'L', 'M', 'N', 'O', 'P', 'Q', 'R', 'S', 'T', 'U', 'V', 'W', 'X', 'Y']\n"
     ]
    }
   ],
   "source": [
    "sample_dict9 =[chr(65+i) for i in range(25)]\n",
    "print(\"Dictionary:\", sample_dict9)  "
   ]
  },
  {
   "cell_type": "code",
   "execution_count": 50,
   "id": "b9639422",
   "metadata": {},
   "outputs": [
    {
     "name": "stdout",
     "output_type": "stream",
     "text": [
      "List: ['val_0', 'val_1', 'val_2', 'val_3', 'val_4', 'val_5', 'val_6', 'val_7', 'val_8', 'val_9', 'val_10', 'val_11', 'val_12', 'val_13', 'val_14', 'val_15', 'val_16', 'val_17', 'val_18', 'val_19', 'val_20', 'val_21', 'val_22', 'val_23', 'val_24']\n"
     ]
    }
   ],
   "source": [
    "sample_list10 =[f\"val_{i}\" for i in range(25)]\n",
    "print(\"List:\", sample_list10)"
   ]
  },
  {
   "cell_type": "code",
   "execution_count": 51,
   "id": "ffa128ed",
   "metadata": {},
   "outputs": [
    {
     "name": "stdout",
     "output_type": "stream",
     "text": [
      "Dictionary: {'university': 'RTMNU', 'college': 'GHRCE', 'course': 'Data Science', 'year': 2024, 'semester': 6, 'city': 'Nagpur', 'state': 'Maharashtra', 'country': 'India', 'student_id': 'STU12345'}\n"
     ]
    }
   ],
   "source": [
    "sample_dict10 ={\"university\": \"RTMNU\",\"college\": \"GHRCE\",\"course\": \"Data Science\",\"year\": 2024,\"semester\": 6,\"city\": \"Nagpur\",\"state\": \"Maharashtra\",\"country\": \"India\",\"student_id\": \"STU12345\"}\n",
    "print(\"Dictionary:\", sample_dict10)"
   ]
  },
  {
   "cell_type": "code",
   "execution_count": 52,
   "id": "b249bc07",
   "metadata": {},
   "outputs": [
    {
     "name": "stdout",
     "output_type": "stream",
     "text": [
      "List: ['data', 'science', 'machine', 'learning', 'python', 'R', 'SQL', 'statistics', 'visualization', 'modeling']\n"
     ]
    }
   ],
   "source": [
    "sample_list11 = [\"data\", \"science\", \"machine\", \"learning\", \"python\", \"R\", \"SQL\", \"statistics\", \"visualization\", \"modeling\"]\n",
    "print(\"List:\", sample_list11)"
   ]
  },
  {
   "cell_type": "code",
   "execution_count": 55,
   "id": "816d9271",
   "metadata": {},
   "outputs": [
    {
     "name": "stdout",
     "output_type": "stream",
     "text": [
      "Dictionary: {'manufacturer': 'Toyota', 'model': 'Camry', 'year': 2020, 'color': 'Blue', 'mileage': 15000, 'price': 24000, 'fuel_type': 'Gasoline', 'transmission': 'Automatic', 'doors': 4, 'seats': 5, 'VIN': '1HGBH41JXMN109186', 'license_plate': 'ABC1234', 'owner': 'John Doe', 'registration_date': '2020-05-15', 'insurance_provider': 'AllState', 'policy_number': 'INS1234567', 'expiration_date': '2023-05-15', 'service_history': ['2021-05-20: Oil Change', '2022-05-20: Tire Rotation'], 'warranty': '5 years or 60000 miles', 'gps_enabled': True}\n"
     ]
    }
   ],
   "source": [
    "sample_dict11 = {'manufacturer': 'Toyota', 'model': 'Camry', 'year': 2020, 'color': 'Blue', 'mileage': 15000, 'price': 24000, 'fuel_type': 'Gasoline', 'transmission': 'Automatic', 'doors': 4, 'seats': 5, 'VIN': '1HGBH41JXMN109186', 'license_plate': 'ABC1234', 'owner': 'John Doe', 'registration_date': '2020-05-15', 'insurance_provider': 'AllState', 'policy_number': 'INS1234567', 'expiration_date': '2023-05-15', 'service_history': ['2021-05-20: Oil Change', '2022-05-20: Tire Rotation'], 'warranty': '5 years or 60000 miles', 'gps_enabled': True}\n",
    "print(\"Dictionary:\", sample_dict11)"
   ]
  },
  {
   "cell_type": "code",
   "execution_count": 56,
   "id": "9c00f30b",
   "metadata": {},
   "outputs": [
    {
     "name": "stdout",
     "output_type": "stream",
     "text": [
      "List: ['item1', 'item2', 'item3', 'item4', 'item5', 'item6', 'item7', 'item8', 'item9', 'item10', 'item11', 'item12', 'item13', 'item14', 'item15', 'item16', 'item17', 'item18', 'item19', 'item20', 'item21', 'item22', 'item23', 'item24', 'item25']\n"
     ]
    }
   ],
   "source": [
    "sample_list12 =[f\"item{i}\" for i in range(1, 26)]\n",
    "print(\"List:\", sample_list12)"
   ]
  },
  {
   "cell_type": "code",
   "execution_count": 57,
   "id": "9e10bf29",
   "metadata": {},
   "outputs": [
    {
     "name": "stdout",
     "output_type": "stream",
     "text": [
      "Dictionary: {'brands': 'samsung', 'models': ['galaxy s21', 'galaxy note20', 'galaxy a52', 'galaxy m32', 'galaxy z fold3'], 'release_years': [2021, 2020, 2021, 2021, 2021], 'price_range': ['$799', '$999', '$499', '$299', '$1799'], 'colors': ['phantom gray', 'phantom white', 'awesome black', 'fantasy silver', 'mystic bronze'], 'features': ['5G connectivity', 'high refresh rate display', 'multiple camera setup', 'fast charging', 'water resistance'], 'popularity_rank': 1, 'warranty': '1 year manufacturer warranty'}\n"
     ]
    }
   ],
   "source": [
    "sample_dict12={\"brands\":\"samsung\",\"models\":[\"galaxy s21\",\"galaxy note20\",\"galaxy a52\",\"galaxy m32\",\"galaxy z fold3\"],\"release_years\":[2021,2020,2021,2021,2021],\"price_range\":[\"$799\",\"$999\",\"$499\",\"$299\",\"$1799\"],\"colors\":[\"phantom gray\",\"phantom white\",\"awesome black\",\"fantasy silver\",\"mystic bronze\"],\"features\":[\"5G connectivity\",\"high refresh rate display\",\"multiple camera setup\",\"fast charging\",\"water resistance\"],\"popularity_rank\":1,\"warranty\":\"1 year manufacturer warranty\"}\n",
    "print(\"Dictionary:\", sample_dict12)"
   ]
  },
  {
   "cell_type": "code",
   "execution_count": 59,
   "id": "8ece60af",
   "metadata": {},
   "outputs": [
    {
     "name": "stdout",
     "output_type": "stream",
     "text": [
      "List: [0, 1, 2, 3, 4, 5, 6, 0, 1, 2, 3, 4, 5, 6, 0, 1, 2, 3, 4, 5, 6, 0, 1, 2, 3]\n"
     ]
    }
   ],
   "source": [
    "sample_list13=[i % 7 for i in range(25)]\n",
    "print(\"List:\", sample_list13)"
   ]
  },
  {
   "cell_type": "code",
   "execution_count": 60,
   "id": "e3788d73",
   "metadata": {},
   "outputs": [
    {
     "name": "stdout",
     "output_type": "stream",
     "text": [
      "Dictionary: {'watch': 'apple watch', 'model': 'series 6', 'year': 2021, 'color': 'space gray', 'size': '44mm', 'material': 'aluminum', 'band': 'sport band', 'features': ['heart rate monitor', 'GPS', 'water resistant', 'sleep tracking'], 'battery_life': '18 hours', 'price': 399, 'warranty': '1 year', 'compatibility': 'iOS devices', 'connectivity': ['Wi-Fi', 'Bluetooth', 'NFC'], 'apps': ['fitness', 'music', 'weather'], 'notifications': True, 'voice_control': 'Siri', 'health_tracking': ['ECG', 'blood oxygen'], 'customization': ['watch faces', 'bands'], 'accessories': ['charger', 'extra band']}\n"
     ]
    }
   ],
   "source": [
    "sample_dict13 ={\"watch\":\"apple watch\",\"model\":\"series 6\",\"year\":2021,\"color\":\"space gray\",\"size\":\"44mm\",\"material\":\"aluminum\",\"band\":\"sport band\",\"features\":[\"heart rate monitor\",\"GPS\",\"water resistant\",\"sleep tracking\"],\"battery_life\":\"18 hours\",\"price\":399,\"warranty\":\"1 year\",\"compatibility\":\"iOS devices\",\"connectivity\":[\"Wi-Fi\",\"Bluetooth\",\"NFC\"],\"apps\":[\"fitness\",\"music\",\"weather\"],\"notifications\":True,\"voice_control\":\"Siri\",\"health_tracking\":[\"ECG\",\"blood oxygen\"],\"customization\":[\"watch faces\",\"bands\"],\"accessories\":[\"charger\",\"extra band\"]}\n",
    "print(\"Dictionary:\", sample_dict13)"
   ]
  },
  {
   "cell_type": "code",
   "execution_count": 61,
   "id": "a558f257",
   "metadata": {},
   "outputs": [
    {
     "name": "stdout",
     "output_type": "stream",
     "text": [
      "List: [100, 99, 98, 97, 96, 95, 94, 93, 92, 91, 90, 89, 88, 87, 86, 85, 84, 83, 82, 81, 80, 79, 78, 77, 76]\n"
     ]
    }
   ],
   "source": [
    "sample_list14=[100 - i for i in range(25)]\n",
    "print(\"List:\", sample_list14)"
   ]
  },
  {
   "cell_type": "code",
   "execution_count": 63,
   "id": "720dffb9",
   "metadata": {},
   "outputs": [
    {
     "name": "stdout",
     "output_type": "stream",
     "text": [
      "Dictionary: {'apperel': 't-shirt', 'brand': 'nike', 'size': 'M', 'color': 'black', 'material': 'cotton', 'price': 25.99, 'in_stock': True, 'category': 'clothing'}\n"
     ]
    }
   ],
   "source": [
    "sample_dict14 ={\"apperel\":\"t-shirt\",\"brand\":\"nike\",\"size\":\"M\",\"color\":\"black\",\"material\":\"cotton\",\"price\":25.99,\"in_stock\":True,\"category\":\"clothing\"}\n",
    "print(\"Dictionary:\", sample_dict14)"
   ]
  },
  {
   "cell_type": "code",
   "execution_count": 65,
   "id": "11797e24",
   "metadata": {},
   "outputs": [
    {
     "name": "stdout",
     "output_type": "stream",
     "text": [
      "List: [1, 2, 4, 8, 16, 32, 64, 128, 256, 512, 1024, 2048, 4096, 8192, 16384, 32768, 65536, 131072, 262144, 524288, 1048576, 2097152, 4194304, 8388608, 16777216]\n"
     ]
    }
   ],
   "source": [
    "sample_list15 =[2**i for i in range(25)]\n",
    "print(\"List:\", sample_list15)"
   ]
  },
  {
   "cell_type": "code",
   "execution_count": 66,
   "id": "6576ad89",
   "metadata": {},
   "outputs": [
    {
     "name": "stdout",
     "output_type": "stream",
     "text": [
      "Dictionary: {'laptop': 'dell xps 13', 'processor': 'intel core i7', 'ram': '16GB', 'storage': '512GB SSD', 'graphics': 'intel iris plus', 'display': '13.3 inch fhd', 'battery_life': '10 hours', 'weight': '2.7 lbs', 'operating_system': 'windows 10', 'color': 'silver', 'price': 999, 'warranty': '1 year', 'ports': ['usb-c', 'headphone jack'], 'connectivity': ['wifi 6', 'bluetooth 5.0'], 'keyboard': 'backlit', 'touchscreen': False, 'webcam': '720p hd', 'audio': 'stereo speakers', 'security': ['fingerprint reader', 'facial recognition'], 'accessories': ['charger', 'carrying case']}\n"
     ]
    }
   ],
   "source": [
    "sample_dict15 ={\"laptop\":\"dell xps 13\",\"processor\":\"intel core i7\",\"ram\":\"16GB\",\"storage\":\"512GB SSD\",\"graphics\":\"intel iris plus\",\"display\":\"13.3 inch fhd\",\"battery_life\":\"10 hours\",\"weight\":\"2.7 lbs\",\"operating_system\":\"windows 10\",\"color\":\"silver\",\"price\":999,\"warranty\":\"1 year\",\"ports\":[\"usb-c\",\"headphone jack\"],\"connectivity\":[\"wifi 6\",\"bluetooth 5.0\"],\"keyboard\":\"backlit\",\"touchscreen\":False,\"webcam\":\"720p hd\",\"audio\":\"stereo speakers\",\"security\":[\"fingerprint reader\",\"facial recognition\"],\"accessories\":[\"charger\",\"carrying case\"]}\n",
    "print(\"Dictionary:\", sample_dict15)"
   ]
  },
  {
   "cell_type": "code",
   "execution_count": 75,
   "id": "861856d6",
   "metadata": {},
   "outputs": [
    {
     "name": "stdout",
     "output_type": "stream",
     "text": [
      "a<b=True\n",
      "a>b=False\n",
      "a==b=False\n",
      "a+b=40\n",
      "a%b=10\n",
      "1000000000000000000000000000000\n"
     ]
    }
   ],
   "source": [
    "#basic conditional prints\n",
    "\n",
    "# Example 1\n",
    "a = 10\n",
    "b = 30\n",
    "print(f\"a<b={a<b}\")\n",
    "print(f\"a>b={a>b}\")\n",
    "print(f\"a==b={a==b}\")\n",
    "print(f\"a+b={a+b}\")\n",
    "print(f\"a%b={a%b}\")\n",
    "print(a**b)\n"
   ]
  },
  {
   "cell_type": "code",
   "execution_count": 76,
   "id": "dc3ac1c5",
   "metadata": {},
   "outputs": [
    {
     "name": "stdout",
     "output_type": "stream",
     "text": [
      "x%y=0\n",
      "x//y=5\n",
      "x*y=125\n",
      "x>y=True\n",
      "x<y=False\n"
     ]
    }
   ],
   "source": [
    "x = 25\n",
    "y = 5\n",
    "print(f\"x%y={x%y}\")\n",
    "print(f\"x//y={x//y}\")\n",
    "print(f\"x*y={x*y}\")\n",
    "print(f\"x>y={x>y}\")\n",
    "print(f\"x<y={x<y}\")\n"
   ]
  },
  {
   "cell_type": "code",
   "execution_count": 77,
   "id": "2feb4be3",
   "metadata": {},
   "outputs": [
    {
     "name": "stdout",
     "output_type": "stream",
     "text": [
      "num%2==0 → Even? False\n",
      "num%2!=0 → Odd? True\n",
      "num**2=49\n",
      "num**3=343\n"
     ]
    }
   ],
   "source": [
    "num = 7\n",
    "print(f\"num%2==0 → Even? {num%2==0}\")\n",
    "print(f\"num%2!=0 → Odd? {num%2!=0}\")\n",
    "print(f\"num**2={num**2}\")\n",
    "print(f\"num**3={num**3}\")\n"
   ]
  },
  {
   "cell_type": "code",
   "execution_count": 78,
   "id": "66c08451",
   "metadata": {},
   "outputs": [
    {
     "name": "stdout",
     "output_type": "stream",
     "text": [
      "p+q=35\n",
      "p-q=-5\n",
      "p*q=300\n",
      "p<q=True\n",
      "p>=q=False\n"
     ]
    }
   ],
   "source": [
    "p = 15\n",
    "q = 20\n",
    "print(f\"p+q={p+q}\")\n",
    "print(f\"p-q={p-q}\")\n",
    "print(f\"p*q={p*q}\")\n",
    "print(f\"p<q={p<q}\")\n",
    "print(f\"p>=q={p>=q}\")\n"
   ]
  },
  {
   "cell_type": "code",
   "execution_count": 79,
   "id": "c89b5d00",
   "metadata": {},
   "outputs": [
    {
     "name": "stdout",
     "output_type": "stream",
     "text": [
      "a and b = False\n",
      "a or b = True\n",
      "not a = False\n",
      "not b = True\n"
     ]
    }
   ],
   "source": [
    "a = True\n",
    "b = False\n",
    "print(f\"a and b = {a and b}\")\n",
    "print(f\"a or b = {a or b}\")\n",
    "print(f\"not a = {not a}\")\n",
    "print(f\"not b = {not b}\")\n"
   ]
  },
  {
   "cell_type": "code",
   "execution_count": 80,
   "id": "6fc30aea",
   "metadata": {},
   "outputs": [
    {
     "name": "stdout",
     "output_type": "stream",
     "text": [
      "sum(marks)=215\n",
      "max(marks)=80\n",
      "min(marks)=60\n",
      "average=71.66666666666667\n"
     ]
    }
   ],
   "source": [
    "marks = [60, 75, 80]\n",
    "print(f\"sum(marks)={sum(marks)}\")\n",
    "print(f\"max(marks)={max(marks)}\")\n",
    "print(f\"min(marks)={min(marks)}\")\n",
    "print(f\"average={sum(marks)/len(marks)}\")\n"
   ]
  },
  {
   "cell_type": "code",
   "execution_count": 81,
   "id": "467eb36f",
   "metadata": {},
   "outputs": [
    {
     "name": "stdout",
     "output_type": "stream",
     "text": [
      "'p' in s = True\n",
      "'z' in s = False\n",
      "len(s)=6\n",
      "s.upper()=PYTHON\n"
     ]
    }
   ],
   "source": [
    "s = \"python\"\n",
    "print(f\"'p' in s = {'p' in s}\")\n",
    "print(f\"'z' in s = {'z' in s}\")\n",
    "print(f\"len(s)={len(s)}\")\n",
    "print(f\"s.upper()={s.upper()}\")"
   ]
  },
  {
   "cell_type": "code",
   "execution_count": 82,
   "id": "8c5fea40",
   "metadata": {},
   "outputs": [
    {
     "name": "stdout",
     "output_type": "stream",
     "text": [
      "x%3==0 → Divisible by 3? True\n",
      "x%2==0 → Even? False\n",
      "x**0.5 = 3.0\n"
     ]
    }
   ],
   "source": [
    "x = 9\n",
    "print(f\"x%3==0 → Divisible by 3? {x%3==0}\")\n",
    "print(f\"x%2==0 → Even? {x%2==0}\")\n",
    "print(f\"x**0.5 = {x**0.5}\")\n"
   ]
  },
  {
   "cell_type": "code",
   "execution_count": 83,
   "id": "770cb1bc",
   "metadata": {},
   "outputs": [
    {
     "name": "stdout",
     "output_type": "stream",
     "text": [
      "Armstrong? True\n",
      "Digits of n=[1, 5, 3]\n"
     ]
    }
   ],
   "source": [
    "n = 153\n",
    "print(f\"Armstrong? {n == sum(int(d)**3 for d in str(n))}\")\n",
    "print(f\"Digits of n={[int(d) for d in str(n)]}\")\n"
   ]
  },
  {
   "cell_type": "code",
   "execution_count": 85,
   "id": "5b7c7c4b",
   "metadata": {},
   "outputs": [
    {
     "name": "stdout",
     "output_type": "stream",
     "text": [
      "Pythagorean triple? True\n",
      "a**2 + b**2 = 25\n",
      "c**2 = 25\n"
     ]
    }
   ],
   "source": [
    "a = 3\n",
    "b = 4\n",
    "c = 5\n",
    "print(f\"Pythagorean triple? {a**2 + b**2 == c**2}\")\n",
    "print(f\"a**2 + b**2 = {a**2 + b**2}\")\n",
    "print(f\"c**2 = {c**2}\")\n"
   ]
  },
  {
   "cell_type": "code",
   "execution_count": 86,
   "id": "6afd1d4a",
   "metadata": {},
   "outputs": [
    {
     "name": "stdout",
     "output_type": "stream",
     "text": [
      "x//y = 4\n",
      "x%y = 2\n",
      "x/y = 4.17\n",
      "x>y = True\n"
     ]
    }
   ],
   "source": [
    "x = 50\n",
    "y = 12\n",
    "print(f\"x//y = {x//y}\")\n",
    "print(f\"x%y = {x%y}\")\n",
    "print(f\"x/y = {x/y:.2f}\")\n",
    "print(f\"x>y = {x>y}\")\n"
   ]
  },
  {
   "cell_type": "code",
   "execution_count": 88,
   "id": "deef10c5",
   "metadata": {},
   "outputs": [
    {
     "name": "stdout",
     "output_type": "stream",
     "text": [
      "a%9==0 → Divisible by 9? True\n",
      "a%2==0 → Even? True\n",
      "a%3==0 → Divisible by 3? True\n"
     ]
    }
   ],
   "source": [
    "a = 18\n",
    "print(f\"a%9==0 → Divisible by 9? {a%9==0}\")\n",
    "print(f\"a%2==0 → Even? {a%2==0}\")\n",
    "print(f\"a%3==0 → Divisible by 3? {a%3==0}\")\n",
    "\n"
   ]
  },
  {
   "cell_type": "code",
   "execution_count": 89,
   "id": "afb4efde",
   "metadata": {},
   "outputs": [
    {
     "name": "stdout",
     "output_type": "stream",
     "text": [
      "Prime? True\n",
      "n>1 = True\n"
     ]
    }
   ],
   "source": [
    "n = 29\n",
    "print(f\"Prime? {all(n % i != 0 for i in range(2, n))}\")\n",
    "print(f\"n>1 = {n>1}\")\n"
   ]
  },
  {
   "cell_type": "code",
   "execution_count": 90,
   "id": "4cd69843",
   "metadata": {},
   "outputs": [
    {
     "name": "stdout",
     "output_type": "stream",
     "text": [
      "sum(nums) = 150\n",
      "average = 30.0\n",
      "max(nums) = 50\n",
      "min(nums) = 10\n"
     ]
    }
   ],
   "source": [
    "nums = [10, 20, 30, 40, 50]\n",
    "print(f\"sum(nums) = {sum(nums)}\")\n",
    "print(f\"average = {sum(nums)/len(nums)}\")\n",
    "print(f\"max(nums) = {max(nums)}\")\n",
    "print(f\"min(nums) = {min(nums)}\")\n"
   ]
  },
  {
   "cell_type": "code",
   "execution_count": 91,
   "id": "3feb727f",
   "metadata": {},
   "outputs": [
    {
     "name": "stdout",
     "output_type": "stream",
     "text": [
      "a and b = True\n",
      "a or b = True\n",
      "not (a and b) = False\n"
     ]
    }
   ],
   "source": [
    "a = True\n",
    "b = True\n",
    "print(f\"a and b = {a and b}\")\n",
    "print(f\"a or b = {a or b}\")\n",
    "print(f\"not (a and b) = {not (a and b)}\")\n"
   ]
  },
  {
   "cell_type": "code",
   "execution_count": 92,
   "id": "eaf93fdc",
   "metadata": {},
   "outputs": [
    {
     "name": "stdout",
     "output_type": "stream",
     "text": [
      "Palindrome? True\n",
      "Reversed = racecar\n"
     ]
    }
   ],
   "source": [
    "s = \"racecar\"\n",
    "print(f\"Palindrome? {s == s[::-1]}\")\n",
    "print(f\"Reversed = {s[::-1]}\")\n"
   ]
  },
  {
   "cell_type": "code",
   "execution_count": 93,
   "id": "27b2b1a6",
   "metadata": {},
   "outputs": [
    {
     "name": "stdout",
     "output_type": "stream",
     "text": [
      "x+y = 133\n",
      "x-y = 67\n",
      "x*y = 3300\n",
      "x/y = 3.03\n"
     ]
    }
   ],
   "source": [
    "x = 100\n",
    "y = 33\n",
    "print(f\"x+y = {x+y}\")\n",
    "print(f\"x-y = {x-y}\")\n",
    "print(f\"x*y = {x*y}\")\n",
    "print(f\"x/y = {x/y:.2f}\")"
   ]
  },
  {
   "cell_type": "code",
   "execution_count": 94,
   "id": "d479c07a",
   "metadata": {},
   "outputs": [
    {
     "name": "stdout",
     "output_type": "stream",
     "text": [
      "Factorial of 6 = 720\n",
      "num%2==0 → Even? True\n"
     ]
    }
   ],
   "source": [
    "num = 6\n",
    "print(f\"Factorial of {num} = {1*2*3*4*5*6}\")\n",
    "print(f\"num%2==0 → Even? {num%2==0}\")"
   ]
  },
  {
   "cell_type": "code",
   "execution_count": 95,
   "id": "74f10bbc",
   "metadata": {},
   "outputs": [
    {
     "name": "stdout",
     "output_type": "stream",
     "text": [
      "Passed? True\n",
      "Topper? True\n"
     ]
    }
   ],
   "source": [
    "grades = [85, 90, 95]\n",
    "print(f\"Passed? {all(g>=40 for g in grades)}\")\n",
    "print(f\"Topper? {max(grades) > 90}\")\n",
    "\n",
    "# Output:"
   ]
  }
 ],
 "metadata": {
  "kernelspec": {
   "display_name": "Python 3",
   "language": "python",
   "name": "python3"
  },
  "language_info": {
   "codemirror_mode": {
    "name": "ipython",
    "version": 3
   },
   "file_extension": ".py",
   "mimetype": "text/x-python",
   "name": "python",
   "nbconvert_exporter": "python",
   "pygments_lexer": "ipython3",
   "version": "3.13.7"
  }
 },
 "nbformat": 4,
 "nbformat_minor": 5
}
